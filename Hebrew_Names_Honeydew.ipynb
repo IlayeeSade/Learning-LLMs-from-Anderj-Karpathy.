{
 "cells": [
  {
   "cell_type": "code",
   "execution_count": 3,
   "id": "7f9c8ca2-e507-48af-9c39-bfa6b3a6bf74",
   "metadata": {},
   "outputs": [],
   "source": [
    "import chardet\n",
    "\n",
    "with open('hebrew names.txt', 'rb') as file:\n",
    "    raw_data = file.read()\n",
    "    detected = chardet.detect(raw_data)\n",
    "    encoding = detected['encoding']\n",
    "\n",
    "words = open('hebrew names.txt', 'r', encoding=encoding).read().splitlines()"
   ]
  },
  {
   "cell_type": "code",
   "execution_count": 4,
   "id": "1eee9d57-ad91-4820-8803-be3c34e8822f",
   "metadata": {},
   "outputs": [],
   "source": [
    "del words[0]"
   ]
  },
  {
   "cell_type": "code",
   "execution_count": 255,
   "id": "8af82749-89d7-40b8-ab95-1699be68a9aa",
   "metadata": {},
   "outputs": [
    {
     "data": {
      "text/plain": [
       "{' ': 1,\n",
       " '\"': 2,\n",
       " \"'\": 3,\n",
       " '?': 4,\n",
       " 'm': 5,\n",
       " 'א': 6,\n",
       " 'ב': 7,\n",
       " 'ג': 8,\n",
       " 'ד': 9,\n",
       " 'ה': 10,\n",
       " 'ו': 11,\n",
       " 'ז': 12,\n",
       " 'ח': 13,\n",
       " 'ט': 14,\n",
       " 'י': 15,\n",
       " 'ך': 16,\n",
       " 'כ': 17,\n",
       " 'ל': 18,\n",
       " 'ם': 19,\n",
       " 'מ': 20,\n",
       " 'ן': 21,\n",
       " 'נ': 22,\n",
       " 'ס': 23,\n",
       " 'ע': 24,\n",
       " 'ף': 25,\n",
       " 'פ': 26,\n",
       " 'ץ': 27,\n",
       " 'צ': 28,\n",
       " 'ק': 29,\n",
       " 'ר': 30,\n",
       " 'ש': 31,\n",
       " 'ת': 32,\n",
       " '.': 0}"
      ]
     },
     "execution_count": 255,
     "metadata": {},
     "output_type": "execute_result"
    }
   ],
   "source": [
    "chars = sorted(list(set(''.join(words))))\n",
    "stoi = {s:i+1 for i,s in enumerate(chars)}\n",
    "stoi['.'] = 0\n",
    "itos = {i:s for s,i in stoi.items()}"
   ]
  },
  {
   "cell_type": "code",
   "execution_count": 256,
   "id": "4ab5af52-7981-46bd-8bb4-e1f82afdcf1f",
   "metadata": {},
   "outputs": [],
   "source": [
    "import torch"
   ]
  },
  {
   "cell_type": "code",
   "execution_count": 155,
   "id": "90b20686-c49e-46ed-83ed-b77e08f64608",
   "metadata": {},
   "outputs": [],
   "source": [
    "xs, ys = [], []\n",
    "for w in words:\n",
    "  chs = ['.'] + list(w) + ['.']\n",
    "  for ch1, ch2 in zip(chs, chs[1:]):\n",
    "    ix1 = stoi[ch1]\n",
    "    ix2 = stoi[ch2]\n",
    "    xs.append(ix1)\n",
    "    ys.append(ix2)\n",
    "xs = torch.tensor(xs)\n",
    "ys = torch.tensor(ys)\n",
    "num = xs.nelement()"
   ]
  },
  {
   "cell_type": "code",
   "execution_count": 156,
   "id": "e2fd9acf-6e02-41e5-9077-5247ed8ad01e",
   "metadata": {},
   "outputs": [],
   "source": [
    "import torch.nn.functional as F\n",
    "xenc = F.one_hot(xs, num_classes=33).float()"
   ]
  },
  {
   "cell_type": "code",
   "execution_count": 169,
   "id": "90414d65-e14e-4709-bab3-62c28908dac2",
   "metadata": {},
   "outputs": [],
   "source": [
    "g = torch.Generator().manual_seed(120)\n",
    "W = torch.randn((33, 33), generator=g, requires_grad=True)\n",
    "logits = xenc @ W # log-counts\n",
    "counts = logits.exp().float() # equivalent N\n",
    "probs = counts / counts.sum(1, keepdims=True)\n",
    "loss = -probs[torch.arange(num), ys].log().mean()\n",
    "num = xs.nelement()"
   ]
  },
  {
   "cell_type": "code",
   "execution_count": 259,
   "id": "207a68e0-2061-4b2c-a5ea-4bbd73876c95",
   "metadata": {},
   "outputs": [
    {
     "name": "stdout",
     "output_type": "stream",
     "text": [
      "2.6337528228759766\n"
     ]
    }
   ],
   "source": [
    "for k in range(1):\n",
    "  # forward pass\n",
    "  xenc = F.one_hot(xs, num_classes=33).float() # input to the network: one-hot encoding\n",
    "  logits = xenc @ W # predict log-counts\n",
    "  counts = logits.exp() # counts, equivalent to N\n",
    "  probs = counts / counts.sum(1, keepdims=True) # probabilities for next character\n",
    "  loss = -probs[torch.arange(num), ys].log().mean() + 0.01*(W**2).mean()\n",
    "  print(loss.item())\n",
    "  \n",
    "  # backward pass\n",
    "  W.grad = None # set to zero the gradient\n",
    "  loss.backward()\n",
    "  # update\n",
    "  W.data += -100 * W.grad"
   ]
  },
  {
   "cell_type": "code",
   "execution_count": 261,
   "id": "7c9939b6-7d87-4cc2-a983-3e8af9fc3f4e",
   "metadata": {},
   "outputs": [
    {
     "name": "stdout",
     "output_type": "stream",
     "text": [
      "מה\n",
      "נתיור\n",
      "יה\n",
      "ד\n",
      "נבי\n",
      "פינו\n",
      "מי\n",
      "אט\n",
      "חזנאשרונה\n",
      "אה\n",
      "בהא\n",
      "סה\n",
      "ג'ירצו\n",
      "ק\n",
      "מויאיה\n",
      "שיגזא\n",
      "מסניוצם\n",
      "צנטף\n",
      "ג'\n",
      "מג'ו\n"
     ]
    }
   ],
   "source": [
    "for i in range(20):\n",
    "  out = []\n",
    "  ix = 0\n",
    "  while True:\n",
    "    xenc = F.one_hot(torch.tensor([ix]), num_classes=33).float()\n",
    "    logits = xenc @ W # predict log-counts\n",
    "    counts = logits.exp() # counts, equivalent to N\n",
    "    p = counts / counts.sum(1, keepdims=True) # probabilities for next character\n",
    "    ix = torch.multinomial(p, num_samples=1, replacement=True, generator=g).item()\n",
    "    if ix == 0:\n",
    "        break\n",
    "    out.append(itos[ix])\n",
    "  print(''.join(out))"
   ]
  }
 ],
 "metadata": {
  "kernelspec": {
   "display_name": "Python 3 (ipykernel)",
   "language": "python",
   "name": "python3"
  },
  "language_info": {
   "codemirror_mode": {
    "name": "ipython",
    "version": 3
   },
   "file_extension": ".py",
   "mimetype": "text/x-python",
   "name": "python",
   "nbconvert_exporter": "python",
   "pygments_lexer": "ipython3",
   "version": "3.12.4"
  }
 },
 "nbformat": 4,
 "nbformat_minor": 5
}
